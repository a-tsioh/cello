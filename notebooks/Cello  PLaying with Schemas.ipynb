{
 "metadata": {
  "name": ""
 },
 "nbformat": 3,
 "nbformat_minor": 0,
 "worksheets": [
  {
   "cells": [
    {
     "cell_type": "markdown",
     "metadata": {},
     "source": []
    },
    {
     "cell_type": "code",
     "collapsed": false,
     "input": [
      "import sys; sys.path.append('/home/yk/work/cello.git/')\n",
      "from cello.schema import *"
     ],
     "language": "python",
     "metadata": {},
     "outputs": []
    },
    {
     "cell_type": "markdown",
     "metadata": {},
     "source": [
      "#### FieldTypes\n",
      "All field types must be implemented by subclassing _cello.schema.FieldType_\n",
      "Your _FieldType_ must implements a _validate_ method which take a _value_ as argument."
     ]
    },
    {
     "cell_type": "code",
     "collapsed": false,
     "input": [
      "# basic fields\n",
      "\n",
      "# Numeric Field (int or float)\n",
      "f = Numeric(numtype=float)\n",
      "assert 2. == f.validate(2.)   # ok\n",
      "assert 2 ==  f.validate(2.)   # ok \n",
      "try : \n",
      "    f.validate('2')  # raise type error\n",
      "except  TypeError as e: print \"test passed\",  e\n",
      "\n",
      "# Text Field (unicode or str )\n",
      "f = Text(texttype=unicode)\n",
      "assert u'boo' == f.validate(u\"boo\") # should be ok \n",
      "try: \n",
      "    f.validate(\"boo\") # should fail with typeError\n",
      "except TypeError as e : print \"test passed\",  e\n",
      "try: \n",
      "    f.validate(1) # should fail with typeError\n",
      "except TypeError as e : print \"test passed\",  e\n",
      "\n",
      "# add more types here\n",
      "# ....\n",
      "\n",
      "print \"FieldTypes test passed\""
     ],
     "language": "python",
     "metadata": {},
     "outputs": []
    },
    {
     "cell_type": "markdown",
     "metadata": {},
     "source": [
      "#### Creating a schema\n",
      "\n",
      "Schema represents types of data embeded in documents.<br/>\n",
      "We create a schema with adding pairs of name and field types to a _Schema_ object. "
     ]
    },
    {
     "cell_type": "code",
     "collapsed": false,
     "input": [
      "schema = Schema(title= Text(default=\"default title\"), \n",
      "                v=Numeric(default=1) )\n",
      "\n",
      "# field count \n",
      "#>>>len(schema)\n",
      "assert len(schema) == 2\n",
      "\n",
      "# list field names\n",
      "#>>>schema.field_names()\n",
      "assert ['title', 'v'] == schema.field_names()\n",
      "\n",
      "# test field by name\n",
      "#>>>schema.has_field('title')\n",
      "assert schema.has_field('title') == True\n",
      "assert schema.has_field('boo') == False\n",
      "\n",
      "# add new field\n",
      "schema.add_field(\"text\", Text())\n",
      "assert schema.has_field('text') == True \n",
      "assert len(schema) == 3\n",
      "\n",
      "# Fields iterator\n",
      "schema.iter_fields()\n",
      "assert 'text' in [ name for name, fieldtype in  schema.iter_fields()]\n",
      "\n",
      "# remove field\n",
      "# unimplemented\n",
      "field_name = \"text\"\n",
      "try :\n",
      "    schema.remove_field(field_name)\n",
      "except NotImplementedError as e : print \"%s\\n !!! schema.remove_field \"\\\n",
      "    \"is still not implemented !!! \\n%s\" % ( \"#\" *55, \"#\" *55  )\n",
      "\n",
      "\n",
      "# hidden attribute fields for internal use\n",
      "print schema._fields\n",
      "print schema['_fields']"
     ],
     "language": "python",
     "metadata": {},
     "outputs": []
    },
    {
     "cell_type": "markdown",
     "metadata": {},
     "source": [
      "#### Extending FieldTypes \n",
      "All field types must be implemented by subclassing _cello.schema.FieldType_.\n",
      "\n",
      "Your _FieldType_ must implements a _validate_ method which take a _value_ as argument."
     ]
    },
    {
     "cell_type": "code",
     "collapsed": false,
     "input": [
      "class MyType(FieldType):\n",
      "    def _init(self):\n",
      "        FieldType.__init__(self)\n",
      "    def validate(self, text):\n",
      "        return True\n",
      "\n",
      "schema = Schema(mytype=MyType())"
     ],
     "language": "python",
     "metadata": {},
     "outputs": []
    },
    {
     "cell_type": "markdown",
     "metadata": {},
     "source": [
      "#### Documents\n",
      "\n",
      "Documents modelized by a _cello.schema.Doc_ class.<br/>\n",
      "_Doc_ instance are created giving a _schema_ and a _dict_ containing data.<br/>\n",
      "<pre><code>schema= Schema()\n",
      "doc = Doc(schema, {})</code><pre>"
     ]
    },
    {
     "cell_type": "code",
     "collapsed": false,
     "input": [
      "schema = Schema(docnum=Numeric() ,\n",
      "                title= Text(default=\"default title\"), \n",
      "                score=Numeric(numtype=float, default=1.01) )\n",
      "\n",
      "doc = Doc(schema, docnum=1)\n",
      "print doc\n",
      "\n",
      "doc.title= 'boo'\n",
      "doc.score=5.02"
     ],
     "language": "python",
     "metadata": {},
     "outputs": []
    },
    {
     "cell_type": "code",
     "collapsed": false,
     "input": [
      "schema = Schema( x=Numeric(multi=True, uniq=True, \n",
      "                           attrs={'a':Numeric(multi=True, default=1)} ))\n",
      "\n",
      "doc = Doc(schema , docnum=2)\n",
      "doc.x = ['d', 'f', 'g']\n",
      "doc.x.a = [11,22,33]\n",
      "print '  ', '   ', '_keys[]',        'x[].a',      'x.a[]',   'get_attr_value'\n",
      "print 'xd', 'idx', doc.x._keys['d'], doc.x['d'].a, doc.x.a[0], doc.x.get_attr_value('d', 'a')\n",
      "print 'xf','idx', doc.x._keys['f'], doc.x['f'].a, doc.x.a[1], doc.x.get_attr_value('f', 'a')\n",
      "print 'xg','idx', doc.x._keys['g'], doc.x['g'].a, doc.x.a[2], doc.x.get_attr_value('g', 'a')\n",
      "print 'x.attrs',type(doc.x._attrs['a'][0]),  [v for v in iter(doc.x._attrs['a'])]\n",
      "print 'x.attrs2', doc.x._attrs['a'][2]\n",
      "\n",
      "doc.x['d'].a = 4\n",
      "print \"doc2\", doc.x.keys()\n",
      "print 'x', [ x for x in doc.x.a ]\n",
      "print \"x['d'].a\", doc.x['d'].a\n",
      "\n",
      "doc.x.a[1] +=10\n",
      "#doc.x['g'].a +=22\n",
      "\n",
      "\n",
      "print 'sum a.x ' , sum(doc.x.a)\n",
      "\n",
      "\n",
      "print 'keys', doc.x._keys\n",
      "print 'keys f', doc.x._keys['f']\n",
      "\n",
      "\n",
      "print 'doc', doc\n",
      "# this will fails\n",
      "# print 'x', doc['x'][0]"
     ],
     "language": "python",
     "metadata": {},
     "outputs": []
    },
    {
     "cell_type": "code",
     "collapsed": false,
     "input": [
      "schema = Schema( x=Numeric(multi=True, uniq=True, \n",
      "                           attrs={'a':Numeric(multi=True, default=1)} ))\n",
      "\n",
      "doc = Doc(schema , docnum=2)\n",
      "doc.x = ['d', 'f', 'g']\n",
      "doc.x.a = [11,22,33]\n",
      "print '  ', '   ', '_keys[]',        'x[].a',      'x.a[]',   'get_attr_value'\n",
      "print 'xd', 'idx', doc.x._keys['d'], doc.x['d'].a, doc.x.a[0], doc.x.get_attr_value('d', 'a')\n",
      "print 'xf','idx', doc.x._keys['f'], doc.x['f'].a, doc.x.a[1], doc.x.get_attr_value('f', 'a')\n",
      "print 'xg','idx', doc.x._keys['g'], doc.x['g'].a, doc.x.a[2], doc.x.get_attr_value('g', 'a')\n",
      "print 'x.attrs',type(doc.x._attrs['a'][0]),  [v for v in iter(doc.x._attrs['a'])]\n",
      "print 'x.attrs2', doc.x._attrs['a'][2]\n",
      "\n",
      "doc.x['d'].a = 4\n",
      "print \"doc2\", doc.x.keys()\n",
      "print 'x', [ x for x in doc.x.a ]\n",
      "print \"x['d'].a\", doc.x['d'].a\n",
      "\n",
      "doc.x.a[1] +=10\n",
      "#doc.x['g'].a +=22\n",
      "assert doc.x.a[1] == doc.x['f'].a\n",
      "\n",
      "print 'sum a.x ' , sum(doc.x.a)\n",
      "\n",
      "\n",
      "print 'keys', doc.x._keys\n",
      "print 'keys f', doc.x._keys['f']\n",
      "\n",
      "\n",
      "print 'doc', doc\n",
      "# this will fails\n",
      "# print 'x', doc['x'][0]"
     ],
     "language": "python",
     "metadata": {},
     "outputs": []
    },
    {
     "cell_type": "code",
     "collapsed": false,
     "input": [
      "vi = doc.x['g']\n",
      "print'key:', vi._key, 'idx:',vi._vector._keys[vi._key], \\\n",
      "     '\\nkeys:',doc.x._keys, 'a', [ v for v in doc.x.a],\\\n",
      "     '\\nget_attr_value', doc.x.get_attr_value('g', 'a'),'vi.a',vi.a,  'a[idx]',doc.x.a[2]\n",
      "print doc.x._attrs['a'].get_value(), list(doc.x._attrs['a']), doc.x.a\n",
      "print vi.attribute_names()\n",
      "doc.x.a\n"
     ],
     "language": "python",
     "metadata": {},
     "outputs": []
    },
    {
     "cell_type": "code",
     "collapsed": false,
     "input": [
      "\n",
      "\n",
      "text = \"\"\"i've seen chicken passing the street, and i believed ,\n",
      "          how many chicken must pass in the street before you believe.\"\"\"\n",
      "\n",
      "# doc.terms['chicken'].tf # > 2doc = Doc(schema, docnum=\"12\", title='Boo', score=[], c=[])\n",
      "\n",
      "\n"
     ],
     "language": "python",
     "metadata": {},
     "outputs": []
    },
    {
     "cell_type": "code",
     "collapsed": false,
     "input": [
      "class Boo(object): \n",
      "    def __init__(self):\n",
      "        self.b = \"bbbbb\"\n",
      "boo = Boo()\n",
      "\n",
      "b = {}\n",
      "b.\n"
     ],
     "language": "python",
     "metadata": {},
     "outputs": []
    }
   ],
   "metadata": {}
  }
 ]
}