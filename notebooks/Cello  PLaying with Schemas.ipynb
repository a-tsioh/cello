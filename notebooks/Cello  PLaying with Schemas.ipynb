{
 "metadata": {
  "name": ""
 },
 "nbformat": 3,
 "nbformat_minor": 0,
 "worksheets": [
  {
   "cells": [
    {
     "cell_type": "markdown",
     "metadata": {},
     "source": [
      "### Cello: Shemas and documents"
     ]
    },
    {
     "cell_type": "code",
     "collapsed": false,
     "input": [
      ">>> import sys; sys.path.append('../')\n",
      ">>> from cello.schema import *\n"
     ],
     "language": "python",
     "metadata": {},
     "outputs": [],
     "prompt_number": 1
    },
    {
     "cell_type": "markdown",
     "metadata": {},
     "source": [
      "#### Creating a schema\n",
      "\n",
      "Schema represents types of data embeded in documents.<br/>\n",
      "We create a schema adding pairs of _name_ and _field types_ to a _Schema_ object. "
     ]
    },
    {
     "cell_type": "code",
     "collapsed": false,
     "input": [
      ">>> schema = Schema(title= Text(), rank=Numeric() )\n",
      ">>> schema = Schema(**{ 'title':Text(), 'rank':Numeric()} )\n",
      "\n",
      "# field count \n",
      ">>> len(schema)\n",
      "2\n",
      "\n",
      "# list field names\n",
      ">>> schema.field_names()# add new field\n",
      "['rank', 'title']\n",
      ">>> schema.add_field(\"text\", Text())\n",
      "\n",
      "# test field by name\n",
      ">>> schema.has_field('title') and 'text' in schema\n",
      "True\n",
      ">>> schema.has_field('boo')  \n",
      "False\n",
      ">>> len(schema)\n",
      "3\n",
      "\n",
      "# Fields iterator\n",
      ">>> it = schema.iter_fields()\n",
      ">>> assert 'text' in [ name for name, fieldtype in  schema.iter_fields()]\n",
      "\n",
      "# hidden attribute fields for internal use\n",
      ">>> hidden = schema._fields\n"
     ],
     "language": "python",
     "metadata": {},
     "outputs": []
    },
    {
     "cell_type": "markdown",
     "metadata": {},
     "source": [
      "#### FieldTypes\n",
      "A _FieldType_ represent the type of data of the field of a document.<br>\n",
      "We provide basic fields description (_Text_, _Numeric_, TODO Date, Url, Path....). <br>\n",
      "_FieldType_ class implements a _validate_ method that checks or modifies the input before returning the same or or new value.<br>\n",
      "_validate_ method also raise an Exception if the _type_ of the _input_ is not the one expected."
     ]
    },
    {
     "cell_type": "markdown",
     "metadata": {},
     "source": [
      "#### Documents\n",
      "\n",
      "Documents modelized by a _cello.schema.Doc_ class.<br/>\n",
      "_Doc_ instance are created giving a _schema_ and a _dict_ containing data.<br/>\n",
      "\n",
      "    >>> doc = Doc(Schema(),docnum=1)\n",
      "    \n",
      "Giving the _schema_ to the constructor will create data container in the document.\n",
      "_FieldType_ may receive a _default_ value to store in the container using _default_ attribute.<br>\n",
      "```Numeric(default=42)```\n",
      "\n",
      "* *ValueField*"
     ]
    },
    {
     "cell_type": "code",
     "collapsed": false,
     "input": [
      ">>> schema = Schema(docnum=Numeric() ,\n",
      "...                 title= Text(default=\"i'm the title\"), \n",
      "...                 score=Numeric(numtype=float, default=1.01) )\n",
      "\n",
      ">>> doc = Doc(schema, docnum=1)\n",
      ">>> doc.score\n",
      "1.01\n",
      "\n",
      "# doc attributes can be set by name\n",
      ">>> doc.title= 'boo'\n",
      ">>> doc.score=5.02\n",
      "\n",
      ">>> doc.title\n",
      "'boo'\n",
      ">>> doc.score\n",
      "5.02\n"
     ],
     "language": "python",
     "metadata": {},
     "outputs": []
    },
    {
     "cell_type": "markdown",
     "metadata": {},
     "source": [
      "* *ListField and SetField*"
     ]
    },
    {
     "cell_type": "code",
     "collapsed": false,
     "input": [
      ">>> schema = Schema( docnum=Numeric(), \n",
      "...                    tags=Text(multi=True, uniq=True),\n",
      "...                    x=Numeric(multi=True))\n",
      ">>> doc = Doc(schema, docnum=1, tags=['a','b', 'c'], x=[1,1,1,2,2])\n",
      "\n",
      "# set/get values ::\n",
      ">>> tags = ['a','b', 'b', 'c']\n",
      ">>> doc.tags = ['a','b', 'b', 'c']\n",
      ">>> sorted(doc.tags)\n",
      "['a', 'b', 'c']\n",
      "\n",
      "# test \n",
      ">>> assert len(doc.tags) == 3\n",
      ">>> assert len(doc.x) == 5\n"
     ],
     "language": "python",
     "metadata": {},
     "outputs": []
    },
    {
     "cell_type": "markdown",
     "metadata": {},
     "source": [
      "#### _FieldType_ , How  to store _List_ or _Set_\n",
      "\n",
      "_FieldType_ are use by document to create container to store the data.<br>\n",
      "Given some attributes in their constructor, \n",
      "fields could be either a simple value holder or more complex container \n",
      "like List or Set of data.<br>\n",
      "Thus <code>Numeric()</code> instance is used to store one int or float value.<br>\n",
      "Use ```Numeric(numtype=int)``` or ```Numeric(numtype=float)```\n",
      "to specify the type of Numeric you want.<br>\n",
      ":You can also specify :\n",
      "* _multi_ attribute to ```True``` to store a ```List``` of value for one field.<br>\n",
      "* _uniq_ attribute is used when one want to store unique entries<br>\n",
      "\n",
      "```\n",
      "    Numeric() # int value\n",
      "    Numeric(numtype=float, multi=True) #  float array\n",
      "    Text(multi=True, uniq=True) # set of str\n",
      "    ...\n",
      "``` "
     ]
    },
    {
     "cell_type": "markdown",
     "metadata": {},
     "source": [
      "#### _FieldType_, How to store key attrs \n",
      "A _key/attributes_ container is also available when adding attributes _attrs_ to the field<br>\n",
      "example:<br>\n",
      "We want to use a field to store every terms of a text.<br>\n",
      "For each term we want to store it's frequency, and positions in the text.<br>\n",
      "\n",
      "For _Text_ based keys :<br>\n",
      "```    \n",
      "    Text(multi=True, uniq=True, attrs={'tf':Numeric(), positions=Numeric(multi=True)})\n",
      "```\n",
      "\n",
      "For _Numeric_ based keys :<br>\n",
      "```    \n",
      "    Numeric(multi=True, uniq=True, attrs={'tf':Numeric(), positions=Numeric(multi=True)})\n",
      "```"
     ]
    },
    {
     "cell_type": "code",
     "collapsed": false,
     "input": [
      "from collections import OrderedDict\n",
      "text = \"i have seen chicken passing the street and i believed \"\\\n",
      "       +\"how many chicken must pass in the street before you believe\"\n",
      "# text analyse \n",
      "tokens = text.split(' ')  \n",
      "#crop = lambda term, max_length : term[:min(max_length, len(term))] \n",
      "#tokens = [ crop(term,5) for term in text]\n",
      "text_terms =  list(OrderedDict.fromkeys(tokens))\n",
      "terms_tf = [ tokens.count(k) for k in text_terms ]\n",
      "terms_pos = [[i for i, x in enumerate(tokens) if x == k ] for k in text_terms]\n",
      "\n",
      "# document\n",
      "term_field = Text(multi=True, uniq=True, \n",
      "                  attrs={'tf':Numeric(default=1),\n",
      "                         'positions':Numeric(multi=True), } )\n",
      "schema = Schema( docnum=Numeric(), title=Text(), text=Text(), terms=term_field )\n",
      "doc = Doc(schema , docnum=1, text=text, title=\"chickens\")\n",
      "doc.terms = text_terms\n",
      "doc.terms.tf = terms_tf\n",
      "doc.terms.positions = terms_pos\n",
      "\n",
      "doc.terms['chicken'].positions\n",
      "#[3, 12]\n",
      "doc.terms['chicken'].tf\n",
      "2\n",
      "doc.title\n",
      "\"chickens\"\n",
      "\n",
      "# test \n",
      "key = \"chicken\"\n",
      "assert doc.terms._keys[key] == 3\n",
      "assert doc.terms[key].positions == doc.terms.positions[3] \\\n",
      "    == doc.terms.get_attr_value(key, 'positions')\n",
      "assert doc.terms[key].positions == [3, 12]\n",
      "assert doc.terms[key].tf == 2\n",
      "assert doc.text[:6] == \"i have\"\n",
      "\n",
      "doc.terms['chicken'].positions = [18,32]\n",
      "doc.terms['chicken'].positions"
     ],
     "language": "python",
     "metadata": {},
     "outputs": [
      {
       "metadata": {},
       "output_type": "pyout",
       "prompt_number": 4,
       "text": [
        "[18, 32]"
       ]
      }
     ],
     "prompt_number": 4
    },
    {
     "cell_type": "code",
     "collapsed": false,
     "input": [
      "# declare a schema with term field\n",
      "term_field = Text(multi=True, uniq=True, \n",
      "                  attrs={'tf':Numeric(default=1),\n",
      "                         'positions':Numeric(multi=True), } )\n",
      "schema = Schema( docnum=Numeric(), terms=term_field )\n",
      "doc = Doc(schema , docnum=1)\n",
      "\n",
      "term_keys = ['d', 'f', 'g']\n",
      "\n",
      "# setting keys\n",
      "doc.terms = term_keys # \n",
      "# key types check\n",
      "try :\n",
      "    # keys should be the type declared in the field\n",
      "    doc.terms = [1,2] # \n",
      "    raise Exception('should never get there')\n",
      "except TypeError as e : doc.terms = term_keys\n",
      "\n",
      "# list keys\n",
      "doc.terms.keys()\n",
      "#>>> ['d', 'f', 'g']\n",
      "    \n",
      "# iterate over keys\n",
      "iter(doc.terms)\n",
      "assert all([key in doc.terms for key in term_keys])\n",
      "\n",
      "# testing a key \n",
      "'d' in doc.terms # or\n",
      "doc.terms.has('d')\n",
      "assert ('d' in doc.terms) == doc.terms.has('d') == True\n",
      "\n",
      "#set attributes value\n",
      "terms_tf  = [11,22,33]\n",
      "doc.terms.tf =  terms_tf\n",
      "assert [11,22,33] == doc.terms.tf.values()\n",
      "\n",
      "# VectorAttr\n",
      "assert type(doc.terms.tf) == VectorAttr \n",
      "# Getting values stored in an attribute\n",
      "doc.terms.tf.values() #  or list(doc.terms.tf)\n",
      "\n",
      "assert doc.terms.tf.values() == list(doc.terms.tf) == terms_tf\n",
      "\n",
      "# VectorItem\n",
      "vi = doc.terms['g']\n",
      "\n",
      "assert type(doc.terms['d']) == type(vi) == VectorItem\n",
      "assert sorted(vi.attribute_names()) == [ 'positions', 'tf']\n",
      "# get key data as dict\n",
      "vi.as_dict()\n",
      "# >>> {'tf': 11, 'positions': []}\n",
      "\n",
      "\n",
      "s = SetField(Numeric(default=[1,2,3]))\n",
      "s.remove(2)\n",
      "vi._key\n"
     ],
     "language": "python",
     "metadata": {},
     "outputs": [
      {
       "metadata": {},
       "output_type": "pyout",
       "prompt_number": 68,
       "text": [
        "'g'"
       ]
      }
     ],
     "prompt_number": 68
    },
    {
     "cell_type": "code",
     "collapsed": false,
     "input": [
      "print '  ', '   ', '_keys[]',        'x[].a',      'x.a[]',   'get_attr_value'\n",
      "print 'xd', 'idx', doc.x._keys['d'], doc.x['d'].a, doc.x.a[0], doc.x.get_attr_value('d', 'a')\n",
      "print 'xf','idx', doc.x._keys['f'], doc.x['f'].a, doc.x.a[1], doc.x.get_attr_value('f', 'a')\n",
      "print 'xg','idx', doc.x._keys['g'], doc.x['g'].a, doc.x.a[2], doc.x.get_attr_value('g', 'a')\n",
      "print 'x.attrs',type(doc.x._attrs['a'][0]),  [v for v in iter(doc.x._attrs['a'])]\n",
      "print 'x.attrs2', doc.x._attrs['a'][2]\n",
      "\n",
      "doc.x['d'].a = 4\n",
      "print \"doc2\", doc.x.keys()\n",
      "print 'x', [ x for x in doc.x.a ]\n",
      "print \"x['d'].a\", doc.x['d'].a\n",
      "\n",
      "doc.x.a[1] +=10\n",
      "#doc.x['g'].a +=22\n",
      "\n",
      "\n",
      "print 'sum a.x ' , sum(doc.x.a)\n",
      "\n",
      "\n",
      "print 'keys', doc.x._keys\n",
      "print 'keys f', doc.x._keys['f']\n",
      "\n",
      "\n",
      "print 'doc', doc\n",
      "# this will fails\n",
      "# print 'x', doc['x'][0]"
     ],
     "language": "python",
     "metadata": {},
     "outputs": []
    },
    {
     "cell_type": "markdown",
     "metadata": {},
     "source": [
      "#### Extending FieldTypes \n",
      "\n",
      "All field types must be implemented by subclassing _cello.schema.FieldType_.\n",
      "\n",
      "Your _FieldType_ must implements a _validate_ method which take a _value_ as argument."
     ]
    },
    {
     "cell_type": "code",
     "collapsed": false,
     "input": [
      "class AnyType(FieldType):\n",
      "    def _init(self):\n",
      "        FieldType.__init__(self)\n",
      "    def validate(self, anything):\n",
      "        return anything\n",
      "\n",
      "anytype = AnyType()\n",
      "assert anytype.validate(True) == True\n",
      "assert anytype.validate({}) == {}\n",
      "assert anytype.validate(-1) == -1\n",
      "\n",
      "schema = Schema(docnum=Numeric(), mytype = anytype)\n",
      "doc = Doc(schema, docnum=1)\n",
      "doc.mytype = True\n",
      "assert doc.mytype == True\n",
      "doc.mytype = -1\n",
      "assert doc.mytype == -1"
     ],
     "language": "python",
     "metadata": {},
     "outputs": []
    },
    {
     "cell_type": "markdown",
     "metadata": {},
     "source": [
      "Tutorial ends here for now \n",
      "below are some notes keep it there "
     ]
    },
    {
     "cell_type": "code",
     "collapsed": false,
     "input": [
      "schema = Schema( x=Numeric(multi=True, uniq=True, \n",
      "                           attrs={'a':Numeric(multi=True, default=1)} ))\n",
      "\n",
      "doc = Doc(schema , docnum=2)\n",
      "doc.x = ['d', 'f', 'g']\n",
      "doc.x.a = [11,22,33]\n",
      "print '  ', '   ', '_keys[]',        'x[].a',      'x.a[]',   'get_attr_value'\n",
      "print 'xd', 'idx', doc.x._keys['d'], doc.x['d'].a, doc.x.a[0], doc.x.get_attr_value('d', 'a')\n",
      "print 'xf','idx', doc.x._keys['f'], doc.x['f'].a, doc.x.a[1], doc.x.get_attr_value('f', 'a')\n",
      "print 'xg','idx', doc.x._keys['g'], doc.x['g'].a, doc.x.a[2], doc.x.get_attr_value('g', 'a')\n",
      "print 'x.attrs',type(doc.x._attrs['a'][0]),  [v for v in iter(doc.x._attrs['a'])]\n",
      "print 'x.attrs2', doc.x._attrs['a'][2]\n",
      "\n",
      "doc.x['d'].a = 4\n",
      "print \"doc2\", doc.x.keys()\n",
      "print 'x', [ x for x in doc.x.a ]\n",
      "print \"x['d'].a\", doc.x['d'].a\n",
      "\n",
      "doc.x.a[1] +=10\n",
      "#doc.x['g'].a +=22\n",
      "assert doc.x.a[1] == doc.x['f'].a\n",
      "\n",
      "print 'sum a.x ' , sum(doc.x.a)\n",
      "\n",
      "\n",
      "print 'keys', doc.x._keys\n",
      "print 'keys f', doc.x._keys['f']\n",
      "\n",
      "\n",
      "print 'doc', doc\n",
      "# this will fails\n",
      "# print 'x', doc['x'][0]"
     ],
     "language": "python",
     "metadata": {},
     "outputs": []
    }
   ],
   "metadata": {}
  }
 ]
}