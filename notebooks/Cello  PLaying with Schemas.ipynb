{
 "metadata": {
  "name": ""
 },
 "nbformat": 3,
 "nbformat_minor": 0,
 "worksheets": [
  {
   "cells": [
    {
     "cell_type": "markdown",
     "metadata": {},
     "source": [
      "### Cello: Shemas and documents\n"
     ]
    },
    {
     "cell_type": "code",
     "collapsed": false,
     "input": [
      "import sys; sys.path.append('../')\n",
      "from cello.schema import *"
     ],
     "language": "python",
     "metadata": {},
     "outputs": [],
     "prompt_number": 1
    },
    {
     "cell_type": "markdown",
     "metadata": {},
     "source": [
      "#### Creating a schema\n",
      "\n",
      "Schema represents types of data embeded in documents.<br/>\n",
      "We create a schema adding pairs of _name_ and _field types_ to a _Schema_ object. <br>"
     ]
    },
    {
     "cell_type": "code",
     "collapsed": false,
     "input": [
      "# create a schema\n",
      "schema = Schema(title= Text(), rank=Numeric() )\n",
      "schema = Schema(**{ 'title':Text(), 'rank':Numeric()} )\n",
      "schema \n",
      "\n",
      "# field count \n",
      "#>>>len(schema)\n",
      "assert len(schema) == 2\n",
      "\n",
      "# list field names\n",
      "#>>>schema.field_names()\n",
      "assert 'title' in schema.field_names()\n",
      "assert 'rank' in schema.field_names()\n",
      "# test field by name\n",
      "#>>>schema.has_field('title')\n",
      "assert schema.has_field('title') == True\n",
      "assert schema.has_field('boo') == False\n",
      "\n",
      "# add new field\n",
      "schema.add_field(\"text\", Text())\n",
      "assert schema.has_field('text') == True \n",
      "assert len(schema) == 3\n",
      "\n",
      "# Fields iterator\n",
      "schema.iter_fields()\n",
      "assert 'text' in [ name for name, fieldtype in  schema.iter_fields()]\n",
      "\n",
      "# remove field\n",
      "# unimplemented\n",
      "field_name = \"text\"\n",
      "try :\n",
      "    schema.remove_field(field_name)\n",
      "except NotImplementedError as e : print \"%s\\n !!! schema.remove_field \"\\\n",
      "    \"is still not implemented !!! \\n%s\" % ( \"#\" *55, \"#\" *55  )\n",
      "\n",
      "\n",
      "# hidden attribute fields for internal use\n",
      "print schema._fields\n",
      "print schema['_fields']"
     ],
     "language": "python",
     "metadata": {},
     "outputs": [
      {
       "output_type": "stream",
       "stream": "stdout",
       "text": [
        "#######################################################\n",
        " !!! schema.remove_field is still not implemented !!! \n",
        "#######################################################\n",
        "{'text': Text(multi=False, uniq=False, default=None, attrs=None), 'rank': Numeric(multi=False, uniq=False, default=None, attrs=None), 'title': Text(multi=False, uniq=False, default=None, attrs=None)}\n",
        "{'text': Text(multi=False, uniq=False, default=None, attrs=None), 'rank': Numeric(multi=False, uniq=False, default=None, attrs=None), 'title': Text(multi=False, uniq=False, default=None, attrs=None)}\n"
       ]
      }
     ],
     "prompt_number": 2
    },
    {
     "cell_type": "markdown",
     "metadata": {},
     "source": [
      "#### FieldTypes\n",
      "A _FieldType_ represent the type of data of the field of a document.<br>\n",
      "We provide basic fields description (_Text_, _Numeric_, TODO Date, Url, Path....). <br>\n",
      "_FieldType_ class implements a _validate_ method that checks or modifies the input before returning the same or or new value.<br>\n",
      "_validate_ method also raise an Exception if the _type_ of the _input_ is not the one expected."
     ]
    },
    {
     "cell_type": "code",
     "collapsed": false,
     "input": [
      "# Numeric Field (int or float)\n",
      "f = Numeric(numtype=float)\n",
      "assert 2. == f.validate(2.)   # ok\n",
      "assert 2 ==  f.validate(2.)   # ok \n",
      "try : \n",
      "    f.validate('2')  # raise type error\n",
      "    assert False\n",
      "except TypeError as e: print \"test passed\",  e\n",
      "\n",
      "# Text Field (unicode or str )\n",
      "f = Text(texttype=unicode)\n",
      "assert u'boo' == f.validate(u\"boo\") # should be ok \n",
      "try: \n",
      "    f.validate(\"boo\") # should fail with typeError\n",
      "except TypeError as e : print \"test passed\",  e\n",
      "try: \n",
      "    f.validate(1) # should fail with typeError\n",
      "except TypeError as e : print \"test passed\",  e\n",
      "\n",
      "# add more types here\n",
      "# ....\n",
      "\n",
      "print \"FieldTypes test passed\""
     ],
     "language": "python",
     "metadata": {},
     "outputs": [
      {
       "output_type": "stream",
       "stream": "stdout",
       "text": [
        "test passed Wrong type '<type 'str'>' should be '<type 'float'>'\n",
        "test passed Wrong type '<type 'str'>' should be '<type 'unicode'>'\n",
        "test passed Wrong type '<type 'int'>' should be '<type 'unicode'>'\n",
        "FieldTypes test passed\n"
       ]
      }
     ],
     "prompt_number": 3
    },
    {
     "cell_type": "markdown",
     "metadata": {},
     "source": [
      "#### Documents\n",
      "\n",
      "Documents modelized by a _cello.schema.Doc_ class.<br/>\n",
      "_Doc_ instance are created giving a _schema_ and a _dict_ containing data.<br/>\n",
      "<pre><code>schema= Schema()\n",
      "doc = Doc(schema, {})</code></pre>\n",
      "Giving the _schema_ to the constructor will create data container in the document.\n",
      "_FieldType_ may receive a _default_ value to store in the container using _default_ attribute.<br>\n",
      "```Numeric(default=42)```"
     ]
    },
    {
     "cell_type": "code",
     "collapsed": false,
     "input": [
      "schema = Schema(docnum=Numeric() ,\n",
      "                title= Text(default=\"i'm the title\"), \n",
      "                score=Numeric(numtype=float, default=1.01) )\n",
      "\n",
      "doc = Doc(schema, docnum=1)\n",
      "assert doc.score == 1.01 \n",
      "\n",
      "# doc attributes can be set by name\n",
      "doc.title= 'boo'\n",
      "doc.score=5.02\n",
      "\n",
      "assert doc.title == 'boo'\n",
      "assert doc.score == 5.02"
     ],
     "language": "python",
     "metadata": {},
     "outputs": [],
     "prompt_number": 4
    },
    {
     "cell_type": "markdown",
     "metadata": {},
     "source": [
      "#### _FieldType_ , How  to store _List_ or _Set_\n",
      "\n",
      "_FieldType_ are use by document to create container to store the data.<br>\n",
      "Given some attributes in their constructor, \n",
      "fields could be either a simple value holder or more complex container \n",
      "like List or Set of data.<br>\n",
      "Thus <code>Numeric()</code> instance is used to store one int or float value.<br>\n",
      "Use ```Numeric(numtype=int)``` or ```Numeric(numtype=float)```\n",
      "to specify the type of Numeric you want.<br>\n",
      "You can also specify :<br>\n",
      "\n",
      "_multi_ attribute to ```True``` to store a ```List``` of value for one field.<br>\n",
      "_uniq_ attribute is used when one want to store unique entries<br>\n",
      "\n",
      "<code>Numeric() # int value\n",
      "Numeric(numtype=float, multi=True) #  float array\n",
      "Text(multi=True, uniq=True) # set of str\n",
      "...\n",
      "</code>\n",
      " \n"
     ]
    },
    {
     "cell_type": "code",
     "collapsed": false,
     "input": [
      "schema = Schema( docnum=Numeric(), tags=Text(multi=True, uniq=True), x=Numeric(multi=True))\n",
      "doc = Doc(schema, docnum=1, tags=['a','b', 'c'], x=[1,1,1,2,2])\n",
      "\n",
      "# getting values\n",
      "doc.tags\n",
      "doc.x\n",
      "\n",
      "# set a value\n",
      "doc.tags = ['a','b', 'b', 'c']\n",
      "\n",
      "# test \n",
      "assert len(doc.tags) == 3\n",
      "assert len(doc.tags) == 3\n",
      "assert len(doc.x) == 5\n"
     ],
     "language": "python",
     "metadata": {},
     "outputs": [],
     "prompt_number": 5
    },
    {
     "cell_type": "markdown",
     "metadata": {},
     "source": [
      "#### _FieldType_, How to store key attrs \n",
      "A _key/attributes_ container is also available when adding attributes _attrs_ to the field<br>\n",
      "example:<br>\n",
      "We want to use a field to store every terms of a text.<br>\n",
      "For each term we want to store it's frequency, and positions in the text.<br>\n",
      "\n",
      "For _Text_ based keys :<br>\n",
      "```Text(multi=True, uniq=True, attrs={'tf':Numeric(), positions=Numeric(multi=True)})```\n",
      "\n",
      "For _Numeric_ based keys :<br>\n",
      "```Numeric(multi=True, uniq=True, attrs={'tf':Numeric(), positions=Numeric(multi=True)})```"
     ]
    },
    {
     "cell_type": "code",
     "collapsed": false,
     "input": [
      "from collections import OrderedDict\n",
      "text = \"i have seen chicken passing the street and i believed \"\\\n",
      "       +\"how many chicken must pass in the street before you believe\"\n",
      "# text analyse \n",
      "tokens = text.split(' ')  \n",
      "#crop = lambda term, max_length : term[:min(max_length, len(term))] \n",
      "#tokens = [ crop(term,5) for term in text]\n",
      "text_terms =  list(OrderedDict.fromkeys(tokens))\n",
      "terms_tf = [ tokens.count(k) for k in text_terms ]\n",
      "terms_pos = [[i for i, x in enumerate(tokens) if x == k ] for k in text_terms]\n",
      "\n",
      "# document\n",
      "term_field = Text(multi=True, uniq=True, \n",
      "                  attrs={'tf':Numeric(default=1),\n",
      "                         'positions':Numeric(multi=True), } )\n",
      "schema = Schema( docnum=Numeric(), text=Text(), terms=term_field )\n",
      "doc = Doc(schema , docnum=1, text=text)\n",
      "doc.terms = text_terms\n",
      "doc.terms.tf = terms_tf\n",
      "doc.terms.positions = terms_pos\n",
      "\n",
      "doc.terms['chicken'].positions\n",
      "# >>> [3, 12]\n",
      "doc.terms['chicken'].tf\n",
      "# >>> 2\n",
      "doc.text\n",
      "# >>> \"i have seen ...\"\n",
      "\n",
      "# test \n",
      "assert doc.terms['chicken'].positions == [3, 12]\n",
      "assert doc.terms['chicken'].tf == 2\n",
      "assert doc.text[:6] == \"i have\"\n",
      "\n",
      "print doc.terms['chicken'].positions"
     ],
     "language": "python",
     "metadata": {},
     "outputs": [
      {
       "output_type": "stream",
       "stream": "stdout",
       "text": [
        "[3, 12]\n"
       ]
      }
     ],
     "prompt_number": 6
    },
    {
     "cell_type": "code",
     "collapsed": false,
     "input": [
      "# Testing\n",
      "import sys; sys.path.append('../')\n",
      "from cello.schema import *\n",
      "\n",
      "# declare a schema with term field\n",
      "term_field = Text(multi=True, uniq=True, \n",
      "                  attrs={'tf':Numeric(default=1),\n",
      "                         'positions':Numeric(multi=True), } )\n",
      "schema = Schema( docnum=Numeric(), terms=term_field )\n",
      "doc = Doc(schema , docnum=1)\n",
      "\n",
      "term_keys = ['d', 'f', 'g']\n",
      "\n",
      "# setting keys\n",
      "doc.terms = term_keys # \n",
      "# key types check\n",
      "try :\n",
      "    # keys should be the type declared in the field\n",
      "    doc.terms = [1,2] # \n",
      "    raise Exception('should never get there')\n",
      "except TypeError as e : doc.terms = term_keys\n",
      "\n",
      "# list keys\n",
      "doc.terms.keys()\n",
      "#>>> ['d', 'f', 'g']\n",
      "    \n",
      "# iterate over keys\n",
      "iter(doc.terms)\n",
      "assert all([key in doc.terms for key in term_keys])\n",
      "\n",
      "# testing a key \n",
      "'d' in doc.terms # or\n",
      "doc.terms.has('d')\n",
      "assert ('d' in doc.terms) == doc.terms.has('d') == True\n",
      "\n",
      "#set attributes value\n",
      "terms_tf  = [11,22,33]\n",
      "doc.terms.tf =  terms_tf\n",
      "assert [11,22,33] == doc.terms.tf.values()\n",
      "# control length of attributes\n",
      "try :\n",
      "    doc.terms.tf = [11,22]\n",
      "    raise Exception(\"should never get there\")\n",
      "except SchemaError as e : pass\n",
      "\n",
      "\n",
      "# VectorAttr\n",
      "assert type(doc.terms.tf) == VectorAttr \n",
      "# Getting values stored in an attribute\n",
      "doc.terms.tf.values() #  or list(doc.terms.tf)\n",
      "\n",
      "assert doc.terms.tf.values() == list(doc.terms.tf) == terms_tf\n",
      "\n",
      "# VectorItem\n",
      "vi = doc.terms['g']\n",
      "\n",
      "assert type(doc.terms['d']) == type(vi) == VectorItem\n",
      "assert sorted(vi.attribute_names()) == [ 'positions', 'tf']\n",
      "# get key data as dict\n",
      "vi.as_dict()\n",
      "# >>> {'tf': 11, 'positions': []}\n"
     ],
     "language": "python",
     "metadata": {},
     "outputs": [
      {
       "output_type": "stream",
       "stream": "stdout",
       "text": [
        "100000 loops, best of 3: 3.87 \u00b5s per loop\n",
        "100000 loops, best of 3: 4.2 \u00b5s per loop"
       ]
      },
      {
       "output_type": "stream",
       "stream": "stdout",
       "text": [
        "\n"
       ]
      }
     ],
     "prompt_number": 5
    },
    {
     "cell_type": "markdown",
     "metadata": {},
     "source": [
      "#### Extending FieldTypes \n",
      "\n",
      "All field types must be implemented by subclassing _cello.schema.FieldType_.\n",
      "\n",
      "Your _FieldType_ must implements a _validate_ method which take a _value_ as argument."
     ]
    },
    {
     "cell_type": "code",
     "collapsed": false,
     "input": [
      "class AnyType(FieldType):\n",
      "    def _init(self):\n",
      "        FieldType.__init__(self)\n",
      "    def validate(self, anything):\n",
      "        return anything\n",
      "\n",
      "anytype = AnyType()\n",
      "assert anytype.validate(True) == True\n",
      "assert anytype.validate({}) == {}\n",
      "assert anytype.validate(-1) == -1\n",
      "\n",
      "schema = Schema(docnum=Numeric(), mytype = anytype)\n",
      "doc = Doc(schema, docnum=1)\n",
      "doc.mytype = True\n",
      "assert doc.mytype == True\n",
      "doc.mytype = -1\n",
      "assert doc.mytype == -1"
     ],
     "language": "python",
     "metadata": {},
     "outputs": [],
     "prompt_number": 17
    },
    {
     "cell_type": "markdown",
     "metadata": {},
     "source": [
      "Tutorial ends here for now \n",
      "below are some notes keep it there "
     ]
    },
    {
     "cell_type": "code",
     "collapsed": false,
     "input": [
      "print '  ', '   ', '_keys[]',        'x[].a',      'x.a[]',   'get_attr_value'\n",
      "print 'xd', 'idx', doc.x._keys['d'], doc.x['d'].a, doc.x.a[0], doc.x.get_attr_value('d', 'a')\n",
      "print 'xf','idx', doc.x._keys['f'], doc.x['f'].a, doc.x.a[1], doc.x.get_attr_value('f', 'a')\n",
      "print 'xg','idx', doc.x._keys['g'], doc.x['g'].a, doc.x.a[2], doc.x.get_attr_value('g', 'a')\n",
      "print 'x.attrs',type(doc.x._attrs['a'][0]),  [v for v in iter(doc.x._attrs['a'])]\n",
      "print 'x.attrs2', doc.x._attrs['a'][2]\n",
      "\n",
      "doc.x['d'].a = 4\n",
      "print \"doc2\", doc.x.keys()\n",
      "print 'x', [ x for x in doc.x.a ]\n",
      "print \"x['d'].a\", doc.x['d'].a\n",
      "\n",
      "doc.x.a[1] +=10\n",
      "#doc.x['g'].a +=22\n",
      "\n",
      "\n",
      "print 'sum a.x ' , sum(doc.x.a)\n",
      "\n",
      "\n",
      "print 'keys', doc.x._keys\n",
      "print 'keys f', doc.x._keys['f']\n",
      "\n",
      "\n",
      "print 'doc', doc\n",
      "# this will fails\n",
      "# print 'x', doc['x'][0]"
     ],
     "language": "python",
     "metadata": {},
     "outputs": [
      {
       "ename": "AttributeError",
       "evalue": "'x' is not a Doc field (existing attributes are: ['terms', 'docnum', 'schema'])",
       "output_type": "pyerr",
       "traceback": [
        "\u001b[1;31m---------------------------------------------------------------------------\u001b[0m\n\u001b[1;31mAttributeError\u001b[0m                            Traceback (most recent call last)",
        "\u001b[1;32m<ipython-input-14-404d286490a6>\u001b[0m in \u001b[0;36m<module>\u001b[1;34m()\u001b[0m\n\u001b[0;32m      1\u001b[0m \u001b[1;32mprint\u001b[0m \u001b[1;34m'  '\u001b[0m\u001b[1;33m,\u001b[0m \u001b[1;34m'   '\u001b[0m\u001b[1;33m,\u001b[0m \u001b[1;34m'_keys[]'\u001b[0m\u001b[1;33m,\u001b[0m        \u001b[1;34m'x[].a'\u001b[0m\u001b[1;33m,\u001b[0m      \u001b[1;34m'x.a[]'\u001b[0m\u001b[1;33m,\u001b[0m   \u001b[1;34m'get_attr_value'\u001b[0m\u001b[1;33m\u001b[0m\u001b[0m\n\u001b[1;32m----> 2\u001b[1;33m \u001b[1;32mprint\u001b[0m \u001b[1;34m'xd'\u001b[0m\u001b[1;33m,\u001b[0m \u001b[1;34m'idx'\u001b[0m\u001b[1;33m,\u001b[0m \u001b[0mdoc\u001b[0m\u001b[1;33m.\u001b[0m\u001b[0mx\u001b[0m\u001b[1;33m.\u001b[0m\u001b[0m_keys\u001b[0m\u001b[1;33m[\u001b[0m\u001b[1;34m'd'\u001b[0m\u001b[1;33m]\u001b[0m\u001b[1;33m,\u001b[0m \u001b[0mdoc\u001b[0m\u001b[1;33m.\u001b[0m\u001b[0mx\u001b[0m\u001b[1;33m[\u001b[0m\u001b[1;34m'd'\u001b[0m\u001b[1;33m]\u001b[0m\u001b[1;33m.\u001b[0m\u001b[0ma\u001b[0m\u001b[1;33m,\u001b[0m \u001b[0mdoc\u001b[0m\u001b[1;33m.\u001b[0m\u001b[0mx\u001b[0m\u001b[1;33m.\u001b[0m\u001b[0ma\u001b[0m\u001b[1;33m[\u001b[0m\u001b[1;36m0\u001b[0m\u001b[1;33m]\u001b[0m\u001b[1;33m,\u001b[0m \u001b[0mdoc\u001b[0m\u001b[1;33m.\u001b[0m\u001b[0mx\u001b[0m\u001b[1;33m.\u001b[0m\u001b[0mget_attr_value\u001b[0m\u001b[1;33m(\u001b[0m\u001b[1;34m'd'\u001b[0m\u001b[1;33m,\u001b[0m \u001b[1;34m'a'\u001b[0m\u001b[1;33m)\u001b[0m\u001b[1;33m\u001b[0m\u001b[0m\n\u001b[0m\u001b[0;32m      3\u001b[0m \u001b[1;32mprint\u001b[0m \u001b[1;34m'xf'\u001b[0m\u001b[1;33m,\u001b[0m\u001b[1;34m'idx'\u001b[0m\u001b[1;33m,\u001b[0m \u001b[0mdoc\u001b[0m\u001b[1;33m.\u001b[0m\u001b[0mx\u001b[0m\u001b[1;33m.\u001b[0m\u001b[0m_keys\u001b[0m\u001b[1;33m[\u001b[0m\u001b[1;34m'f'\u001b[0m\u001b[1;33m]\u001b[0m\u001b[1;33m,\u001b[0m \u001b[0mdoc\u001b[0m\u001b[1;33m.\u001b[0m\u001b[0mx\u001b[0m\u001b[1;33m[\u001b[0m\u001b[1;34m'f'\u001b[0m\u001b[1;33m]\u001b[0m\u001b[1;33m.\u001b[0m\u001b[0ma\u001b[0m\u001b[1;33m,\u001b[0m \u001b[0mdoc\u001b[0m\u001b[1;33m.\u001b[0m\u001b[0mx\u001b[0m\u001b[1;33m.\u001b[0m\u001b[0ma\u001b[0m\u001b[1;33m[\u001b[0m\u001b[1;36m1\u001b[0m\u001b[1;33m]\u001b[0m\u001b[1;33m,\u001b[0m \u001b[0mdoc\u001b[0m\u001b[1;33m.\u001b[0m\u001b[0mx\u001b[0m\u001b[1;33m.\u001b[0m\u001b[0mget_attr_value\u001b[0m\u001b[1;33m(\u001b[0m\u001b[1;34m'f'\u001b[0m\u001b[1;33m,\u001b[0m \u001b[1;34m'a'\u001b[0m\u001b[1;33m)\u001b[0m\u001b[1;33m\u001b[0m\u001b[0m\n\u001b[0;32m      4\u001b[0m \u001b[1;32mprint\u001b[0m \u001b[1;34m'xg'\u001b[0m\u001b[1;33m,\u001b[0m\u001b[1;34m'idx'\u001b[0m\u001b[1;33m,\u001b[0m \u001b[0mdoc\u001b[0m\u001b[1;33m.\u001b[0m\u001b[0mx\u001b[0m\u001b[1;33m.\u001b[0m\u001b[0m_keys\u001b[0m\u001b[1;33m[\u001b[0m\u001b[1;34m'g'\u001b[0m\u001b[1;33m]\u001b[0m\u001b[1;33m,\u001b[0m \u001b[0mdoc\u001b[0m\u001b[1;33m.\u001b[0m\u001b[0mx\u001b[0m\u001b[1;33m[\u001b[0m\u001b[1;34m'g'\u001b[0m\u001b[1;33m]\u001b[0m\u001b[1;33m.\u001b[0m\u001b[0ma\u001b[0m\u001b[1;33m,\u001b[0m \u001b[0mdoc\u001b[0m\u001b[1;33m.\u001b[0m\u001b[0mx\u001b[0m\u001b[1;33m.\u001b[0m\u001b[0ma\u001b[0m\u001b[1;33m[\u001b[0m\u001b[1;36m2\u001b[0m\u001b[1;33m]\u001b[0m\u001b[1;33m,\u001b[0m \u001b[0mdoc\u001b[0m\u001b[1;33m.\u001b[0m\u001b[0mx\u001b[0m\u001b[1;33m.\u001b[0m\u001b[0mget_attr_value\u001b[0m\u001b[1;33m(\u001b[0m\u001b[1;34m'g'\u001b[0m\u001b[1;33m,\u001b[0m \u001b[1;34m'a'\u001b[0m\u001b[1;33m)\u001b[0m\u001b[1;33m\u001b[0m\u001b[0m\n\u001b[0;32m      5\u001b[0m \u001b[1;32mprint\u001b[0m \u001b[1;34m'x.attrs'\u001b[0m\u001b[1;33m,\u001b[0m\u001b[0mtype\u001b[0m\u001b[1;33m(\u001b[0m\u001b[0mdoc\u001b[0m\u001b[1;33m.\u001b[0m\u001b[0mx\u001b[0m\u001b[1;33m.\u001b[0m\u001b[0m_attrs\u001b[0m\u001b[1;33m[\u001b[0m\u001b[1;34m'a'\u001b[0m\u001b[1;33m]\u001b[0m\u001b[1;33m[\u001b[0m\u001b[1;36m0\u001b[0m\u001b[1;33m]\u001b[0m\u001b[1;33m)\u001b[0m\u001b[1;33m,\u001b[0m  \u001b[1;33m[\u001b[0m\u001b[0mv\u001b[0m \u001b[1;32mfor\u001b[0m \u001b[0mv\u001b[0m \u001b[1;32min\u001b[0m \u001b[0miter\u001b[0m\u001b[1;33m(\u001b[0m\u001b[0mdoc\u001b[0m\u001b[1;33m.\u001b[0m\u001b[0mx\u001b[0m\u001b[1;33m.\u001b[0m\u001b[0m_attrs\u001b[0m\u001b[1;33m[\u001b[0m\u001b[1;34m'a'\u001b[0m\u001b[1;33m]\u001b[0m\u001b[1;33m)\u001b[0m\u001b[1;33m]\u001b[0m\u001b[1;33m\u001b[0m\u001b[0m\n",
        "\u001b[1;32m/home/yk/work/cello.git/cello/schema.py\u001b[0m in \u001b[0;36m__getattr__\u001b[1;34m(self, name)\u001b[0m\n\u001b[0;32m    453\u001b[0m \u001b[1;33m\u001b[0m\u001b[0m\n\u001b[0;32m    454\u001b[0m         \u001b[1;32mexcept\u001b[0m \u001b[0mKeyError\u001b[0m \u001b[1;32mas\u001b[0m \u001b[0me\u001b[0m\u001b[1;33m:\u001b[0m\u001b[1;33m\u001b[0m\u001b[0m\n\u001b[1;32m--> 455\u001b[1;33m             \u001b[1;32mraise\u001b[0m \u001b[0mAttributeError\u001b[0m\u001b[1;33m(\u001b[0m\u001b[1;34m\"%s is not a Doc field (existing attributes are: %s)\"\u001b[0m \u001b[1;33m%\u001b[0m \u001b[1;33m(\u001b[0m\u001b[0me\u001b[0m\u001b[1;33m,\u001b[0m \u001b[0mself\u001b[0m\u001b[1;33m.\u001b[0m\u001b[0mkeys\u001b[0m\u001b[1;33m(\u001b[0m\u001b[1;33m)\u001b[0m\u001b[1;33m)\u001b[0m\u001b[1;33m)\u001b[0m\u001b[1;33m\u001b[0m\u001b[0m\n\u001b[0m\u001b[0;32m    456\u001b[0m \u001b[1;33m\u001b[0m\u001b[0m\n\u001b[0;32m    457\u001b[0m     \u001b[1;32mdef\u001b[0m \u001b[0m__setattr__\u001b[0m\u001b[1;33m(\u001b[0m\u001b[0mself\u001b[0m\u001b[1;33m,\u001b[0m \u001b[0mname\u001b[0m\u001b[1;33m,\u001b[0m \u001b[0mvalue\u001b[0m\u001b[1;33m)\u001b[0m\u001b[1;33m:\u001b[0m\u001b[1;33m\u001b[0m\u001b[0m\n",
        "\u001b[1;31mAttributeError\u001b[0m: 'x' is not a Doc field (existing attributes are: ['terms', 'docnum', 'schema'])"
       ]
      },
      {
       "output_type": "stream",
       "stream": "stdout",
       "text": [
        "       _keys[] x[].a x.a[] get_attr_value\n",
        "xd idx"
       ]
      }
     ],
     "prompt_number": 14
    },
    {
     "cell_type": "code",
     "collapsed": false,
     "input": [
      "schema = Schema( x=Numeric(multi=True, uniq=True, \n",
      "                           attrs={'a':Numeric(multi=True, default=1)} ))\n",
      "\n",
      "doc = Doc(schema , docnum=2)\n",
      "doc.x = ['d', 'f', 'g']\n",
      "doc.x.a = [11,22,33]\n",
      "print '  ', '   ', '_keys[]',        'x[].a',      'x.a[]',   'get_attr_value'\n",
      "print 'xd', 'idx', doc.x._keys['d'], doc.x['d'].a, doc.x.a[0], doc.x.get_attr_value('d', 'a')\n",
      "print 'xf','idx', doc.x._keys['f'], doc.x['f'].a, doc.x.a[1], doc.x.get_attr_value('f', 'a')\n",
      "print 'xg','idx', doc.x._keys['g'], doc.x['g'].a, doc.x.a[2], doc.x.get_attr_value('g', 'a')\n",
      "print 'x.attrs',type(doc.x._attrs['a'][0]),  [v for v in iter(doc.x._attrs['a'])]\n",
      "print 'x.attrs2', doc.x._attrs['a'][2]\n",
      "\n",
      "doc.x['d'].a = 4\n",
      "print \"doc2\", doc.x.keys()\n",
      "print 'x', [ x for x in doc.x.a ]\n",
      "print \"x['d'].a\", doc.x['d'].a\n",
      "\n",
      "doc.x.a[1] +=10\n",
      "#doc.x['g'].a +=22\n",
      "assert doc.x.a[1] == doc.x['f'].a\n",
      "\n",
      "print 'sum a.x ' , sum(doc.x.a)\n",
      "\n",
      "\n",
      "print 'keys', doc.x._keys\n",
      "print 'keys f', doc.x._keys['f']\n",
      "\n",
      "\n",
      "print 'doc', doc\n",
      "# this will fails\n",
      "# print 'x', doc['x'][0]"
     ],
     "language": "python",
     "metadata": {},
     "outputs": [
      {
       "ename": "TypeError",
       "evalue": "Wrong type '<type 'str'>' should be '<type 'int'>'",
       "output_type": "pyerr",
       "traceback": [
        "\u001b[1;31m---------------------------------------------------------------------------\u001b[0m\n\u001b[1;31mTypeError\u001b[0m                                 Traceback (most recent call last)",
        "\u001b[1;32m<ipython-input-13-742720c078eb>\u001b[0m in \u001b[0;36m<module>\u001b[1;34m()\u001b[0m\n\u001b[0;32m      3\u001b[0m \u001b[1;33m\u001b[0m\u001b[0m\n\u001b[0;32m      4\u001b[0m \u001b[0mdoc\u001b[0m \u001b[1;33m=\u001b[0m \u001b[0mDoc\u001b[0m\u001b[1;33m(\u001b[0m\u001b[0mschema\u001b[0m \u001b[1;33m,\u001b[0m \u001b[0mdocnum\u001b[0m\u001b[1;33m=\u001b[0m\u001b[1;36m2\u001b[0m\u001b[1;33m)\u001b[0m\u001b[1;33m\u001b[0m\u001b[0m\n\u001b[1;32m----> 5\u001b[1;33m \u001b[0mdoc\u001b[0m\u001b[1;33m.\u001b[0m\u001b[0mx\u001b[0m \u001b[1;33m=\u001b[0m \u001b[1;33m[\u001b[0m\u001b[1;34m'd'\u001b[0m\u001b[1;33m,\u001b[0m \u001b[1;34m'f'\u001b[0m\u001b[1;33m,\u001b[0m \u001b[1;34m'g'\u001b[0m\u001b[1;33m]\u001b[0m\u001b[1;33m\u001b[0m\u001b[0m\n\u001b[0m\u001b[0;32m      6\u001b[0m \u001b[0mdoc\u001b[0m\u001b[1;33m.\u001b[0m\u001b[0mx\u001b[0m\u001b[1;33m.\u001b[0m\u001b[0ma\u001b[0m \u001b[1;33m=\u001b[0m \u001b[1;33m[\u001b[0m\u001b[1;36m11\u001b[0m\u001b[1;33m,\u001b[0m\u001b[1;36m22\u001b[0m\u001b[1;33m,\u001b[0m\u001b[1;36m33\u001b[0m\u001b[1;33m]\u001b[0m\u001b[1;33m\u001b[0m\u001b[0m\n\u001b[0;32m      7\u001b[0m \u001b[1;32mprint\u001b[0m \u001b[1;34m'  '\u001b[0m\u001b[1;33m,\u001b[0m \u001b[1;34m'   '\u001b[0m\u001b[1;33m,\u001b[0m \u001b[1;34m'_keys[]'\u001b[0m\u001b[1;33m,\u001b[0m        \u001b[1;34m'x[].a'\u001b[0m\u001b[1;33m,\u001b[0m      \u001b[1;34m'x.a[]'\u001b[0m\u001b[1;33m,\u001b[0m   \u001b[1;34m'get_attr_value'\u001b[0m\u001b[1;33m\u001b[0m\u001b[0m\n",
        "\u001b[1;32m/home/yk/work/cello.git/cello/schema.py\u001b[0m in \u001b[0;36m__setattr__\u001b[1;34m(self, name, value)\u001b[0m\n\u001b[0;32m    460\u001b[0m         \u001b[1;32massert\u001b[0m \u001b[0mname\u001b[0m \u001b[1;32min\u001b[0m \u001b[0mself\u001b[0m\u001b[1;33m[\u001b[0m\u001b[1;34m'schema'\u001b[0m\u001b[1;33m]\u001b[0m\u001b[1;33m.\u001b[0m\u001b[0mfield_names\u001b[0m\u001b[1;33m(\u001b[0m\u001b[1;33m)\u001b[0m\u001b[1;33m,\u001b[0m\u001b[0;31m \u001b[0m\u001b[0;31m\\\u001b[0m\u001b[1;33m\u001b[0m\u001b[0m\n\u001b[0;32m    461\u001b[0m             \u001b[1;34m\"%s is not declared as a field in the schema\"\u001b[0m \u001b[1;33m%\u001b[0m\u001b[0mname\u001b[0m\u001b[1;33m\u001b[0m\u001b[0m\n\u001b[1;32m--> 462\u001b[1;33m         \u001b[0mself\u001b[0m\u001b[1;33m[\u001b[0m\u001b[0mname\u001b[0m\u001b[1;33m]\u001b[0m\u001b[1;33m.\u001b[0m\u001b[0mset\u001b[0m\u001b[1;33m(\u001b[0m \u001b[0mvalue\u001b[0m \u001b[1;33m)\u001b[0m\u001b[1;33m\u001b[0m\u001b[0m\n\u001b[0m\u001b[0;32m    463\u001b[0m \u001b[1;33m\u001b[0m\u001b[0m\n",
        "\u001b[1;32m/home/yk/work/cello.git/cello/schema.py\u001b[0m in \u001b[0;36mset\u001b[1;34m(self, keys)\u001b[0m\n\u001b[0;32m    327\u001b[0m         \u001b[1;32mfor\u001b[0m \u001b[0mkey\u001b[0m \u001b[1;32min\u001b[0m \u001b[0mkeys\u001b[0m\u001b[1;33m:\u001b[0m\u001b[1;33m\u001b[0m\u001b[0m\n\u001b[0;32m    328\u001b[0m             \u001b[1;32mif\u001b[0m \u001b[1;32mnot\u001b[0m \u001b[0mself\u001b[0m\u001b[1;33m.\u001b[0m\u001b[0mhas\u001b[0m\u001b[1;33m(\u001b[0m\u001b[0mkey\u001b[0m\u001b[1;33m)\u001b[0m\u001b[1;33m:\u001b[0m\u001b[1;33m\u001b[0m\u001b[0m\n\u001b[1;32m--> 329\u001b[1;33m                 \u001b[0mself\u001b[0m\u001b[1;33m.\u001b[0m\u001b[0madd\u001b[0m\u001b[1;33m(\u001b[0m\u001b[0m_field\u001b[0m\u001b[1;33m.\u001b[0m\u001b[0mvalidate\u001b[0m\u001b[1;33m(\u001b[0m\u001b[0mkey\u001b[0m\u001b[1;33m)\u001b[0m\u001b[1;33m)\u001b[0m\u001b[1;33m\u001b[0m\u001b[0m\n\u001b[0m\u001b[0;32m    330\u001b[0m \u001b[1;33m\u001b[0m\u001b[0m\n\u001b[0;32m    331\u001b[0m     \u001b[1;32mdef\u001b[0m \u001b[0mget_attr_value\u001b[0m\u001b[1;33m(\u001b[0m\u001b[0mself\u001b[0m\u001b[1;33m,\u001b[0m \u001b[0mkey\u001b[0m \u001b[1;33m,\u001b[0m \u001b[0mattr\u001b[0m\u001b[1;33m)\u001b[0m\u001b[1;33m:\u001b[0m\u001b[1;33m\u001b[0m\u001b[0m\n",
        "\u001b[1;32m/home/yk/work/cello.git/cello/schema.py\u001b[0m in \u001b[0;36mvalidate\u001b[1;34m(self, value)\u001b[0m\n\u001b[0;32m    142\u001b[0m     \u001b[1;32mdef\u001b[0m \u001b[0mvalidate\u001b[0m\u001b[1;33m(\u001b[0m\u001b[0mself\u001b[0m\u001b[1;33m,\u001b[0m \u001b[0mvalue\u001b[0m\u001b[1;33m)\u001b[0m\u001b[1;33m:\u001b[0m\u001b[1;33m\u001b[0m\u001b[0m\n\u001b[0;32m    143\u001b[0m         \u001b[1;32mif\u001b[0m \u001b[0misinstance\u001b[0m\u001b[1;33m(\u001b[0m\u001b[0mvalue\u001b[0m\u001b[1;33m,\u001b[0m \u001b[0mself\u001b[0m\u001b[1;33m.\u001b[0m\u001b[0mnumtype\u001b[0m\u001b[1;33m)\u001b[0m \u001b[1;33m==\u001b[0m \u001b[0mFalse\u001b[0m \u001b[1;33m:\u001b[0m\u001b[1;33m\u001b[0m\u001b[0m\n\u001b[1;32m--> 144\u001b[1;33m             \u001b[1;32mraise\u001b[0m \u001b[0mTypeError\u001b[0m\u001b[1;33m(\u001b[0m\u001b[1;34m\"Wrong type '%s' should be '%s'\"\u001b[0m \u001b[1;33m%\u001b[0m \u001b[1;33m(\u001b[0m\u001b[0mtype\u001b[0m\u001b[1;33m(\u001b[0m\u001b[0mvalue\u001b[0m\u001b[1;33m)\u001b[0m\u001b[1;33m,\u001b[0m \u001b[0mself\u001b[0m\u001b[1;33m.\u001b[0m\u001b[0mnumtype\u001b[0m \u001b[1;33m)\u001b[0m\u001b[1;33m)\u001b[0m\u001b[1;33m\u001b[0m\u001b[0m\n\u001b[0m\u001b[0;32m    145\u001b[0m         \u001b[1;32mreturn\u001b[0m \u001b[0mvalue\u001b[0m\u001b[1;33m\u001b[0m\u001b[0m\n\u001b[0;32m    146\u001b[0m \u001b[1;33m\u001b[0m\u001b[0m\n",
        "\u001b[1;31mTypeError\u001b[0m: Wrong type '<type 'str'>' should be '<type 'int'>'"
       ]
      }
     ],
     "prompt_number": 13
    }
   ],
   "metadata": {}
  }
 ]
}