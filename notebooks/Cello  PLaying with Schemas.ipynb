{
 "metadata": {
  "name": ""
 },
 "nbformat": 3,
 "nbformat_minor": 0,
 "worksheets": [
  {
   "cells": [
    {
     "cell_type": "markdown",
     "metadata": {},
     "source": []
    },
    {
     "cell_type": "code",
     "collapsed": false,
     "input": [
      "import sys; sys.path.append('/home/yk/work/cello.git/')\n",
      "\n",
      "from cello.schema import *\n"
     ],
     "language": "python",
     "metadata": {},
     "outputs": []
    },
    {
     "cell_type": "code",
     "collapsed": false,
     "input": [
      "# test fields\n",
      "\n",
      "f = Numeric(numtype=float)\n",
      "f.validate(2.)\n",
      "f = Text(texttype=unicode)\n",
      "f.validate(u\"boo\")\n",
      "\n",
      "# test schema \n",
      "\n",
      "schema = Schema(**{ 'title': Text(), 'score':Numeric(numtype=int, multi=True) })\n",
      "\n",
      "print \"fields\", schema._fields\n",
      "print \"field_names\", schema.field_names()\n",
      "\n",
      "print \"title attr\", schema['title']\n",
      "print \"title item\", schema.title\n",
      "print \"has field title\", schema.has_field('title')\n",
      "print \"has field titlez\", schema.has_field('titlez')\n",
      "\n",
      "print \"field count\", len(schema)\n",
      "\n",
      "doc = Doc(schema, docnum=1)\n",
      "print doc.schema"
     ],
     "language": "python",
     "metadata": {},
     "outputs": []
    },
    {
     "cell_type": "code",
     "collapsed": false,
     "input": [
      "schema = Schema(title= Text(default=\"default title\"), v=Numeric(default=1) )\n",
      "doc = Doc(schema, docnum=1)\n",
      "\n",
      "print doc\n",
      "\n",
      "doc.title= 'boo'\n",
      "doc.v=1\n",
      "print \"doc1\", doc.title, doc.v\n",
      "\n",
      "schema = Schema( x=Numeric(multi=True, uniq=True, \n",
      "                           attrs={'a':Numeric(multi=True, default=1)} ))\n",
      "doc = Doc(schema , docnum=2)\n",
      "doc.x = ['a', 'b', 'c']\n",
      "doc.x.a = [1,2,3]\n",
      "doc.x['a'].a = 4\n",
      "print \"doc2\", doc.x.keys()\n",
      "print 'x', [ x for x in doc.x.a ]\n",
      "print \"x['a'].a\", doc.x['a'].a\n",
      "\n",
      "doc.x.a[1] +=10\n",
      "print 'x1', doc.x.a[1]\n",
      "\n",
      "\n",
      "# this will fails\n",
      "# print 'x', doc['x'][0]\n"
     ],
     "language": "python",
     "metadata": {},
     "outputs": [
      {
       "output_type": "stream",
       "stream": "stdout",
       "text": [
        "{'v': <cello.schema.ValueField instance at 0x3806c68>, 'title': <cello.schema.ValueField instance at 0x37f7e18>, 'docnum': 1, 'schema': <Schema: {'title': Text(multi=False, uniq=False, default=default title), 'v': Numeric(multi=False, uniq=False, default=1)}>}\n",
        "doc1 boo 1\n",
        "doc2 ['a', 'c', 'b']\n",
        "x [1, 2, 3]\n",
        "x['a'].a 4\n",
        "x1 12\n"
       ]
      }
     ],
     "prompt_number": 4
    },
    {
     "cell_type": "code",
     "collapsed": false,
     "input": [
      "\n",
      "\n",
      "text = \"\"\"i've seen chicken passing the street, and i believed ,\n",
      "          how many chicken must pass in the street before you believe.\"\"\"\n",
      "\n",
      "# doc.terms['chicken'].tf # > 2doc = Doc(schema, docnum=\"12\", title='Boo', score=[], c=[])\n",
      "\n",
      "\n"
     ],
     "language": "python",
     "metadata": {},
     "outputs": []
    }
   ],
   "metadata": {}
  }
 ]
}