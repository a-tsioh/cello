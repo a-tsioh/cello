{
 "metadata": {
  "name": ""
 },
 "nbformat": 3,
 "nbformat_minor": 0,
 "worksheets": [
  {
   "cells": [
    {
     "cell_type": "code",
     "collapsed": false,
     "input": [
      "import sys; sys.path.append('../')"
     ],
     "language": "python",
     "metadata": {},
     "outputs": []
    },
    {
     "cell_type": "markdown",
     "metadata": {},
     "source": [
      "* *Run prox search over Dicosyn Verbs*"
     ]
    },
    {
     "cell_type": "code",
     "collapsed": false,
     "input": [
      "import igraph\n",
      "# read the graph\n",
      "misere = igraph.read('../tests/data/lesmiserables.gml')\n",
      "v = misere.vs[0]\n",
      "v."
     ],
     "language": "python",
     "metadata": {},
     "outputs": [],
     "prompt_number": 36
    },
    {
     "cell_type": "code",
     "collapsed": true,
     "input": [
      "from cello.search.base_search import GraphProxSearch\n",
      "search = GraphProxSearch(misere)\n",
      "\n",
      "# We now have <cello.models.Doc> docs\n",
      "res = search('Valjean', nb_results=200)\n",
      "\n",
      "# one can print labels\n",
      "print len(res), [d.label for d in res]"
     ],
     "language": "python",
     "metadata": {},
     "outputs": [
      {
       "output_type": "stream",
       "stream": "stdout",
       "text": [
        "77 ['Valjean', 'Javert', 'Bamatabois', 'Thenardier', 'Cosette', 'Fantine', 'Judge', 'Champmathieu', 'Brevet', 'Chenildieu', 'Cochepaille', 'Gavroche', 'MmeThenardier', 'Marius', 'Myriel', 'Gueulemer', 'Babet', 'Claquesous', 'Montparnasse', 'Fauchelevent', 'Enjolras', 'Gillenormand', 'MlleGillenormand', 'MlleBaptistine', 'MmeMagloire', 'Eponine', 'Simplice', 'Woman2', 'Toussaint', 'MotherInnocent', 'Bossuet', 'Labarre', 'MmeDeR', 'Isabeau', 'Gervais', 'Scaufflaire', 'Woman1', 'Brujon', 'Marguerite', 'Courfeyrac', 'LtGillenormand', 'Bahorel', 'Joly', 'Mabeuf', 'Tholomyes', 'Combeferre', 'Feuilly', 'Gribier', 'Grantaire', 'Perpetue', 'Prouvaire', 'Anzelma', 'Magnon', 'MmeHucheloup', 'Pontmercy', 'BaronessT', 'Listolier', 'Fameuil', 'Blacheville', 'Favourite', 'Dahlia', 'Zephine', 'MmePontmercy', 'MlleVaubois', 'Napoleon', 'CountessDeLo', 'Geborand', 'Champtercier', 'Cravatte', 'Count', 'OldMan', 'Boulatruelle', 'Child1', 'Child2', 'MmeBurgon', 'MotherPlutarch', 'Jondrette']\n"
       ]
      }
     ],
     "prompt_number": 30
    },
    {
     "cell_type": "code",
     "collapsed": false,
     "input": [
      "\n",
      "# get the subgraphs \n",
      "g = misere.subgraph( [ int(d.docnum) for d in res ] )\n",
      "\n",
      "# convert labels to utf8 calling plot\n",
      "g.vs['label'] = [ label.encode('utf8') for label in g.vs['label'] ]\n",
      "\n",
      "# plot it \n",
      "igraph.plot(g)"
     ],
     "language": "python",
     "metadata": {},
     "outputs": [
      {
       "metadata": {},
       "output_type": "pyout",
       "prompt_number": 31,
       "text": [
        "<igraph.drawing.Plot at 0x3c288d0>"
       ]
      }
     ],
     "prompt_number": 31
    },
    {
     "cell_type": "markdown",
     "metadata": {},
     "source": [
      "test j expliip"
     ]
    }
   ],
   "metadata": {}
  }
 ]
}