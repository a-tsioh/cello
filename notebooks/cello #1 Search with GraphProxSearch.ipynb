{
 "metadata": {
  "name": ""
 },
 "nbformat": 3,
 "nbformat_minor": 0,
 "worksheets": [
  {
   "cells": [
    {
     "cell_type": "code",
     "collapsed": false,
     "input": [
      "import sys; sys.path.append('../')"
     ],
     "language": "python",
     "metadata": {},
     "outputs": []
    },
    {
     "cell_type": "markdown",
     "metadata": {},
     "source": [
      "* *Run prox search over Dicosyn Verbs*"
     ]
    },
    {
     "cell_type": "code",
     "collapsed": false,
     "input": [
      "import igraph\n",
      "# read the graph\n",
      "synv = igraph.read('../tests/data/lesmiserables.gml')"
     ],
     "language": "python",
     "metadata": {},
     "outputs": []
    },
    {
     "cell_type": "code",
     "collapsed": true,
     "input": [
      "from cello.search.base_search import GraphProxSearch\n",
      "search = GraphProxSearch(synv)\n",
      "\n",
      "# We now have <cello.models.Doc> docs\n",
      "res = search('Valjean', nb_results=200)\n",
      "\n",
      "# one can print labels\n",
      "print len(res), [d.label for d in res]"
     ],
     "language": "python",
     "metadata": {},
     "outputs": []
    },
    {
     "cell_type": "code",
     "collapsed": false,
     "input": [
      "\n",
      "# get the subgraphs \n",
      "g = synv.subgraph( [ int(d.docnum) for d in res ] )\n",
      "\n",
      "# convert labels to utf8 calling plot\n",
      "g.vs['label'] = [ label.encode('utf8') for label in g.vs['label'] ]\n",
      "\n",
      "# plot it \n",
      "igraph.plot(g)"
     ],
     "language": "python",
     "metadata": {},
     "outputs": []
    }
   ],
   "metadata": {}
  }
 ]
}