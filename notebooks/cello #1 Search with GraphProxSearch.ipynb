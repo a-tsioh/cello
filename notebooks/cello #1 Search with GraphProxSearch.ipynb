{
 "metadata": {
  "name": ""
 },
 "nbformat": 3,
 "nbformat_minor": 0,
 "worksheets": [
  {
   "cells": [
    {
     "cell_type": "markdown",
     "metadata": {},
     "source": [
      "* *Run prox search over Dicosyn Verbs*"
     ]
    },
    {
     "cell_type": "code",
     "collapsed": false,
     "input": [
      "import igraph\n",
      "# read the graph\n",
      "synv = igraph.read('tests/data/V.dicosyn.pickle')"
     ],
     "language": "python",
     "metadata": {},
     "outputs": []
    },
    {
     "cell_type": "code",
     "collapsed": true,
     "input": [
      "from cello.search.base import GraphProxSearch\n",
      "search = GraphProxSearch(synv)\n",
      "\n",
      "# We now have <cello.models.Doc> docs\n",
      "res = search(u'\u00e9taler', nb_results=10)\n",
      "\n",
      "# one can print labels\n",
      "print [d.label for d in res]"
     ],
     "language": "python",
     "metadata": {},
     "outputs": []
    },
    {
     "cell_type": "code",
     "collapsed": false,
     "input": [
      "\n",
      "# get the subgraphas \n",
      "g = synv.subgraph( [ int(d.docnum) for d in res ] )\n",
      "\n",
      "# convert labels to utf8 calling plot\n",
      "g.vs['label'] = [ label.encode('utf8') for label in g.vs['label'] ]\n",
      "\n",
      "# plot it \n",
      "igraph.plot(g)"
     ],
     "language": "python",
     "metadata": {},
     "outputs": []
    }
   ],
   "metadata": {}
  }
 ]
}