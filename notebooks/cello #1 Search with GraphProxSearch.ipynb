{
 "metadata": {
  "name": ""
 },
 "nbformat": 3,
 "nbformat_minor": 0,
 "worksheets": [
  {
   "cells": [
    {
     "cell_type": "code",
     "collapsed": false,
     "input": [
      "import sys\n",
      "sys.path.append('../')"
     ],
     "language": "python",
     "metadata": {},
     "outputs": [],
     "prompt_number": 3
    },
    {
     "cell_type": "markdown",
     "metadata": {},
     "source": [
      "* *Run prox search over Dicosyn Verbs*"
     ]
    },
    {
     "cell_type": "code",
     "collapsed": false,
     "input": [
      "import igraph\n",
      "# read the graph\n",
      "synv = igraph.read('../tests/data/lesmiserables.gml')\n"
     ],
     "language": "python",
     "metadata": {},
     "outputs": [],
     "prompt_number": 14
    },
    {
     "cell_type": "code",
     "collapsed": true,
     "input": [
      "from cello.search.base_search import GraphProxSearch\n",
      "search = GraphProxSearch(synv)\n",
      "\n",
      "# We now have <cello.models.Doc> docs\n",
      "res = search('Valjean', nb_results=20)\n",
      "\n",
      "# one can print labels\n",
      "print [d.label for d in res]"
     ],
     "language": "python",
     "metadata": {},
     "outputs": [
      {
       "output_type": "stream",
       "stream": "stdout",
       "text": [
        "['Valjean', 'Javert', 'Bamatabois', 'Thenardier', 'Cosette', 'Fantine', 'Judge', 'Champmathieu', 'Brevet', 'Chenildieu', 'Cochepaille', 'Gavroche', 'MmeThenardier', 'Marius', 'Myriel', 'Gueulemer', 'Babet', 'Claquesous', 'Montparnasse', 'Fauchelevent']\n"
       ]
      }
     ],
     "prompt_number": 17
    },
    {
     "cell_type": "code",
     "collapsed": false,
     "input": [
      "\n",
      "# get the subgraphas \n",
      "g = synv.subgraph( [ int(d.docnum) for d in res ] )\n",
      "\n",
      "# convert labels to utf8 calling plot\n",
      "g.vs['label'] = [ label.encode('utf8') for label in g.vs['label'] ]\n",
      "\n",
      "# plot it \n",
      "igraph.plot(g)"
     ],
     "language": "python",
     "metadata": {},
     "outputs": [
      {
       "metadata": {},
       "output_type": "pyout",
       "prompt_number": 18,
       "text": [
        "<igraph.drawing.Plot at 0x3c28090>"
       ]
      }
     ],
     "prompt_number": 18
    }
   ],
   "metadata": {}
  }
 ]
}